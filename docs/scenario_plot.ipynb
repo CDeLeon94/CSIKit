{
 "metadata": {
  "language_info": {
   "codemirror_mode": {
    "name": "ipython",
    "version": 3
   },
   "file_extension": ".py",
   "mimetype": "text/x-python",
   "name": "python",
   "nbconvert_exporter": "python",
   "pygments_lexer": "ipython3",
   "version": "3.8.7-final"
  },
  "orig_nbformat": 2,
  "kernelspec": {
   "name": "python3",
   "language": "python",
   "display_name": "Python 3"
  }
 },
 "nbformat": 4,
 "nbformat_minor": 2,
 "cells": [
  {
   "source": [
    "# CSIKit Visualization Module Demo\n",
    "## Introduction\n",
    "\n",
    "This Jupyter notebook outlines and demonstrates the functionality offered with the `visualization` module, implemented\n",
    "by [twiegel-dev](https://github.com/tweigel-dev).\n",
    "\n",
    "Currently, this module is only compatible with Intel 5300 .dat-style CSI,\n",
    "however other formats will be supported in time. If you've got any questions, amendments, feature suggestions, or any\n",
    "other comments, please reach out in either the [Issues](https://github.com/Gi-z/CSIKit/issues)\n",
    "or email me: g.r.forbes@rgu.ac.uk.\n",
    "\n",
    "### Contents:\n",
    "\n",
    "* [Overview](#overview)\n",
    "* [Imports](#imports)\n",
    "* [Using Scenario Plotter](#using-scenarioplotter)\n",
    "* [Save to PDF](#save-to-pdf)\n",
    "* [Custom Metrics](#custom-metrics)\n",
    "* [Custom Graphs](#custom-graphs)\n",
    "\n",
    "## Overview <a name=\"overview\"></a>\n",
    "\n",
    "The `ScenarioPlotter` class can be used to generate many plots for a given CSI file,\n",
    "by providing a list of metrics and desired plot types. These plots can then be rendered onscreen or to PDF.\n",
    "\n",
    "## Imports <a name=\"imports\"></a>"
   ],
   "cell_type": "markdown",
   "metadata": {}
  },
  {
   "cell_type": "code",
   "execution_count": 29,
   "metadata": {},
   "outputs": [
    {
     "name": "stdout",
     "output_type": "stream",
     "text": [
      "The autoreload extension is already loaded. To reload it, use:\n",
      "  %reload_ext autoreload\n"
     ]
    }
   ],
   "source": [
    "from CSIKit.visualization.graph import *\n",
    "from CSIKit.visualization.metric import *\n",
    "from CSIKit.visualization.plot_scenario import *"
   ]
  },
  {
   "source": [
    "## Using ScenarioPlotter <a name=\"using-scenarioplotter\"></a>\n",
    "\n",
    "`ScenarioPlotter`'s constructor takes two parameters:\n",
    "\n",
    "1. `scenario_name` (str): This name is used in generating the filename when saving plots to PDF.\n",
    "2. `plot_impls` (List): A list of tuples containing a Metric and Graph.\n",
    "\n",
    "Once a `ScenarioPlotter` object has been instantiated, CSI measurement files can be added with the\n",
    "`add_measurements_files(files)` function.\n",
    "This function takes `files`: a dict of names (keys) and paths to CSI files (values).\n",
    "The selected plots can then be rendered onscreen using `show()`.\n",
    "\n",
    "In this example, we'll generate plots for all available metrics to demonstrate them.\n",
    "\n",
    "Metrics:\n",
    "\n",
    " - RSS: Received Signal Strength.\n",
    " - RSS_per_Antenna: RSS for each antenna stream.\n",
    " - RSSI: Received Signal Strength Indicator.\n",
    " - RSSI_per_Antenna: RSSI for each antenna stream.\n",
    " - Noise: Noise floor in dB.\n",
    " - SNR: Signal-to-noise ratio.\n",
    " - Amplitude_Sum: CSI Amplitude summed across each subcarrier and antenna stream.\n",
    " - Phase_Diff_Std_err: Standard Deviation of Phase Difference across each antenna stream.\n",
    " - Datarate: 802.11 datarate for each CSI frame.\n",
    " - AGC: Automatic Gain Control setting.\n",
    " - CSI_Matrix_Phase_Diff_1_2: Phase difference across two antenna streams.\n",
    "\n",
    "Graphs:\n",
    "\n",
    " - PlotCandle: Candle plot.\n",
    " - PlotCandleTuple: Multiple associated candle plots.\n",
    " - PlotCandleTuple_Phase: As above, tuned for rendering phase rather than amplitude.\n",
    " - PlotBox: Box plot.\n",
    " - PlotColorMap: 2d image plot.\n",
    " - PlotColorMap_Phase: As above, tuned for rendering phase rather than amplitude."
   ],
   "cell_type": "markdown",
   "metadata": {}
  },
  {
   "cell_type": "code",
   "execution_count": null,
   "outputs": [],
   "source": [
    "PLOT_CLASSES = [\n",
    "    (RSS,                   PlotCandle),\n",
    "    (RSS_per_Antenna,       PlotCandleTuple),\n",
    "    (RSSI,                  PlotCandle),\n",
    "    (RSSI,                  PlotBox),\n",
    "    (RSSI_per_Antenna,      PlotCandleTuple),\n",
    "    (Noise,                 PlotCandle),\n",
    "    (SNR,                   PlotCandle),\n",
    "    (Amplitude_Sum,         PlotCandle),\n",
    "    (Phase_Diff_Std_err,    PlotCandleTuple_Phase),\n",
    "    (Datarate,              PlotCandle),\n",
    "    (AGC,                   PlotCandle),\n",
    "    (CSI_Matrix_Phase_Diff_1_2,                   PlotColorMap_Phase),\n",
    "]\n",
    "\n",
    "FILES = {\n",
    "    \"5 Meters\"      :\"../CSIKit/visualization/example_dat/los_5.dat\",\n",
    "    \"40 Meters\"     :\"../CSIKit/visualization/example_dat/los_40.dat\",\n",
    "    \"100 Meters\"    :\"../CSIKit/visualization/example_dat/los_100.dat\",\n",
    "}\n",
    "\n",
    "scenario = ScenarioPlotter(\"name_to_save_pdf\", PLOT_CLASSES)\n",
    "scenario.add_measurements_files(FILES)\n",
    "scenario.show()"
   ],
   "metadata": {
    "collapsed": false,
    "pycharm": {
     "name": "#%%\n"
    }
   }
  },
  {
   "source": [
    "## Save to PDF <a name=\"save-to-pdf\"></a>\n",
    "\n",
    "Alternatively, you can save plots to PDF using `save(folder=\"OUTPUT_FOLDER_LOCATION\")`."
   ],
   "cell_type": "markdown",
   "metadata": {}
  },
  {
   "cell_type": "code",
   "execution_count": null,
   "metadata": {},
   "outputs": [],
   "source": [
    "scenario.save(folder=\"output\")"
   ]
  },
  {
   "source": [
    "## Custom Metrics <a name=\"custom-metrics\"></a>\n",
    "\n",
    "If the metrics included do not fit your specifications, custom metrics can be written with relative ease.\n",
    "Inheriting the `Metric` class, simply define the following functions:\n",
    "\n",
    " - `notice`: Generating and returning the value represented by your metric, for a given CSI frame.\n",
    " - `get_name`: Returning the metric name.\n",
    " - `get_unit`: Returning the units for your metric."
   ],
   "cell_type": "markdown",
   "metadata": {}
  },
  {
   "cell_type": "code",
   "execution_count": null,
   "metadata": {},
   "outputs": [],
   "source": [
    "class Noise(Metric):\n",
    "    def notice(self, entry:CsiEntry):\n",
    "        return entry.noise\n",
    "    def get_name(self):\n",
    "        return \"Noise\"\n",
    "    def get_unit(self):\n",
    "        return \"dBm\""
   ]
  },
  {
   "source": [
    "<a name=\"custom-graphs\"></a>\n",
    "## Custom Graphs\n",
    "\n",
    "To implement your own graph, implement the show method at Graph and use the given matplotlib **axes**\n",
    "and values with the following shape:\n",
    "``` python\n",
    "{\n",
    "    \"<measurement_name1>\" : entires:list[Frames],\n",
    "    \"<measurement_name2>\" : entires:list[Frames],\n",
    "    (...)\n",
    "}\n",
    "```\n",
    "\n",
    "Shown below is an example of a Graph implementation for rendering 2d colormaps."
   ],
   "cell_type": "markdown",
   "metadata": {}
  },
  {
   "cell_type": "code",
   "execution_count": null,
   "metadata": {},
   "outputs": [],
   "source": [
    "class PlotColorMap(Graph):\n",
    "\n",
    "    def __init__(self, metric):\n",
    "        super().__init__(metric)\n",
    "        self.vmin = None\n",
    "        self.vmax = None\n",
    "        self.cmap = plt.cm.plasma\n",
    "        self.color_legend = True\n",
    "\n",
    "    def _plot_axes(self,  values_per_measurement):\n",
    "\n",
    "        for measurement_name in values_per_measurement:\n",
    "            axes = self._create_new_ax()\n",
    "            amplitude_per_sub = values_per_measurement[measurement_name]\n",
    "            amplitude_per_sub = np.matrix(np.array(amplitude_per_sub))\n",
    "\n",
    "            cmap = self.cmap\n",
    "            if not self.vmin is None and not self.vmax is None:\n",
    "                pcmap = axes.pcolormesh(amplitude_per_sub, cmap=cmap,  vmin=self.vmin, vmax=self.vmax,rasterized=True)\n",
    "            else:\n",
    "                pcmap = axes.pcolormesh(amplitude_per_sub, cmap=cmap, rasterized=True)\n",
    "\n",
    "            if self.color_legend:\n",
    "                plt.colorbar(pcmap, ax=axes)\n",
    "\n",
    "            axes.set_xlabel(\"Subcarrier\")\n",
    "            axes.set_ylabel('Measurement')\n",
    "            plt.show()"
   ]
  }
 ]
}